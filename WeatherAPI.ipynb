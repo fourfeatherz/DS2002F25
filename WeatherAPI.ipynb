{
  "cells": [
    {
      "cell_type": "markdown",
      "metadata": {
        "id": "view-in-github",
        "colab_type": "text"
      },
      "source": [
        "<a href=\"https://colab.research.google.com/github/fourfeatherz/DS2002F25/blob/main/WeatherAPI.ipynb\" target=\"_parent\"><img src=\"https://colab.research.google.com/assets/colab-badge.svg\" alt=\"Open In Colab\"/></a>"
      ]
    },
    {
      "cell_type": "markdown",
      "id": "58f2ad28",
      "metadata": {
        "id": "58f2ad28"
      },
      "source": [
        "## Introduction to APIs and API Keys\n",
        "Instructor: Jason Williamson\n",
        "\n",
        "This notebook teaches how to use APIs in Python using the `requests` library. We'll focus on **WeatherAPI.com**, which provides free API keys without requiring a credit card."
      ]
    },
    {
      "cell_type": "markdown",
      "id": "4437187f",
      "metadata": {
        "id": "4437187f"
      },
      "source": [
        "### Getting Your Free WeatherAPI Key\n",
        "\n",
        "Follow these quick steps to get your API key (no credit card required):\n",
        "\n",
        "1. Go to [https://www.weatherapi.com/](https://www.weatherapi.com/)\n",
        "2. Click **Sign Up** and create a free account.\n",
        "3. After verifying your email, log in and go to the **API Keys** section of your dashboard.\n",
        "4. Copy your API key — it looks something like this: `abcd1234efgh5678ijkl9012mnop3456`\n",
        "5. When you run this notebook, it will ask you to paste your key.  \n",
        "   - The input is **hidden**, so your key stays private.\n",
        "   - Your key will only live in your Colab session memory\n",
        "\n",
        "---\n"
      ]
    },
    {
      "cell_type": "code",
      "execution_count": 1,
      "id": "f14fbdbf",
      "metadata": {
        "id": "f14fbdbf"
      },
      "outputs": [],
      "source": [
        "# Setup: Install dependencies\n",
        "!pip install requests python-dotenv matplotlib pandas --quiet\n"
      ]
    },
    {
      "cell_type": "markdown",
      "id": "ebad82e9",
      "metadata": {
        "id": "ebad82e9"
      },
      "source": [
        "### Section 1: What is an API?\n",
        "\n",
        "An **API (Application Programming Interface)** allows programs to talk to other programs. Think of it like a restaurant menu—you make a request and receive a response. APIs often send data as JSON, which Python can easily read and parse.\n",
        "\n",
        "Think of it like a **restaurant menu** — it lists what the server (backend) can do, and you place an *order* (a request) to get a *response*.\n",
        "\n",
        "| Real World | API Analogy |\n",
        "|-------------|--------------|\n",
        "| Restaurant Menu | API Documentation |\n",
        "| Order to Waiter | HTTP Request |\n",
        "| Food from Kitchen | JSON Response |"
      ]
    },
    {
      "cell_type": "code",
      "source": [
        "#  Demo\n",
        "# Let's explore a public API that doesn't require authentication.\n",
        "\n",
        "import requests\n",
        "\n",
        "print(\"Fetching a random dog image from the Dog CEO API 🐶...\")\n",
        "response = requests.get(\"https://dog.ceo/api/breeds/image/random\")\n",
        "print(\"Status Code:\", response.status_code)\n",
        "print(\"Response JSON:\", response.json())"
      ],
      "metadata": {
        "colab": {
          "base_uri": "https://localhost:8080/"
        },
        "id": "2-Tom9kOZOJ-",
        "outputId": "9cdfc658-9f49-4493-dde2-24896c6e22d2"
      },
      "id": "2-Tom9kOZOJ-",
      "execution_count": 5,
      "outputs": [
        {
          "output_type": "stream",
          "name": "stdout",
          "text": [
            "Fetching a random dog image from the Dog CEO API 🐶...\n",
            "Status Code: 200\n",
            "Response JSON: {'message': 'https://images.dog.ceo/breeds/kelpie/n02105412_5175.jpg', 'status': 'success'}\n"
          ]
        }
      ]
    },
    {
      "cell_type": "code",
      "execution_count": 2,
      "id": "da640435",
      "metadata": {
        "colab": {
          "base_uri": "https://localhost:8080/"
        },
        "id": "da640435",
        "outputId": "2ed50a4d-4662-4447-dfa3-0770a9be2be5"
      },
      "outputs": [
        {
          "output_type": "stream",
          "name": "stdout",
          "text": [
            "Fetching a random cat fact...\n",
            "200\n",
            "{'fact': \"The cat's footpads absorb the shocks of the landing when the cat jumps.\", 'length': 71}\n"
          ]
        }
      ],
      "source": [
        "# Demo: Simple Public API (No Key Required)\n",
        "import requests\n",
        "\n",
        "print(\"Fetching a random cat fact...\")\n",
        "response = requests.get(\"https://catfact.ninja/fact\")\n",
        "print(response.status_code)\n",
        "print(response.json())\n"
      ]
    },
    {
      "cell_type": "code",
      "execution_count": 4,
      "id": "b8b04f19",
      "metadata": {
        "colab": {
          "base_uri": "https://localhost:8080/"
        },
        "id": "b8b04f19",
        "outputId": "a1030119-01c3-4c99-9452-023eb71b6a74"
      },
      "outputs": [
        {
          "output_type": "stream",
          "name": "stdout",
          "text": [
            "{'slip': {'id': 21, 'advice': \"Don't feed Mogwais after midnight.\"}}\n"
          ]
        }
      ],
      "source": [
        "#  Exercise\n",
        "# TODO: Change the URL to another free API like https://api.adviceslip.com/advice\n",
        "# Print the advice nicely.\n",
        "\n",
        "url = \"https://api.adviceslip.com/advice\"\n",
        "response = requests.get(url)\n",
        "print(response.json())\n"
      ]
    },
    {
      "cell_type": "markdown",
      "id": "ad9fdada",
      "metadata": {
        "id": "ad9fdada"
      },
      "source": [
        "### Section 2: API Keys\n",
        "\n",
        "Many APIs require authentication using an **API key**, a unique string that identifies you. This lets the API track your usage and prevent abuse.\n",
        "\n",
        "We'll use **WeatherAPI.com** (https://www.weatherapi.com/) because it provides free keys without needing a credit card."
      ]
    },
    {
      "cell_type": "code",
      "execution_count": 6,
      "id": "e3620ad2",
      "metadata": {
        "colab": {
          "base_uri": "https://localhost:8080/"
        },
        "id": "e3620ad2",
        "outputId": "29231fc6-0840-4f8b-ea30-6f14ff650c18"
      },
      "outputs": [
        {
          "output_type": "stream",
          "name": "stdout",
          "text": [
            "Paste your WeatherAPI.com key here (input hidden): ··········\n",
            "API key securely stored in session.\n"
          ]
        }
      ],
      "source": [
        "# Instructor Demo: Using an API key securely in Colab\n",
        "from getpass import getpass\n",
        "import os\n",
        "\n",
        "API_KEY = getpass(\"Paste your WeatherAPI.com key here (input hidden): \")\n",
        "os.environ['WEATHER_API_KEY'] = API_KEY\n",
        "print(\"API key securely stored in session.\")\n"
      ]
    },
    {
      "cell_type": "markdown",
      "id": "4ebee40e",
      "metadata": {
        "id": "4ebee40e"
      },
      "source": [
        "### Section 3: Making an Authenticated API Request\n",
        "\n",
        "We'll fetch live weather data for a given city using your API key."
      ]
    },
    {
      "cell_type": "code",
      "execution_count": 7,
      "id": "1edef468",
      "metadata": {
        "colab": {
          "base_uri": "https://localhost:8080/"
        },
        "id": "1edef468",
        "outputId": "e7d7a864-2224-4a60-8fd5-6227d3959093"
      },
      "outputs": [
        {
          "output_type": "stream",
          "name": "stdout",
          "text": [
            "City: New York\n",
            "Region: New York\n",
            "Country: United States of America\n",
            "Temperature (°C): 22.2\n",
            "Condition: Clear\n"
          ]
        }
      ],
      "source": [
        "import requests\n",
        "\n",
        "def get_weather(city, key):\n",
        "    url = \"http://api.weatherapi.com/v1/current.json\"\n",
        "    params = {\"key\": key, \"q\": city, \"aqi\": \"no\"}\n",
        "    r = requests.get(url, params=params)\n",
        "    r.raise_for_status()\n",
        "    return r.json()\n",
        "\n",
        "city = \"New York\"\n",
        "data = get_weather(city, os.environ['WEATHER_API_KEY'])\n",
        "\n",
        "print(f\"City: {data['location']['name']}\")\n",
        "print(f\"Region: {data['location']['region']}\")\n",
        "print(f\"Country: {data['location']['country']}\")\n",
        "print(f\"Temperature (°C): {data['current']['temp_c']}\")\n",
        "print(f\"Condition: {data['current']['condition']['text']}\")\n"
      ]
    },
    {
      "cell_type": "code",
      "execution_count": 9,
      "id": "db8e83f6",
      "metadata": {
        "colab": {
          "base_uri": "https://localhost:8080/"
        },
        "id": "db8e83f6",
        "outputId": "99214718-fb8f-42a6-b7f0-0c56b985ff2b"
      },
      "outputs": [
        {
          "output_type": "stream",
          "name": "stdout",
          "text": [
            "Enter a city: Richmond\n",
            "Richmond: 17.8°C, Clear\n"
          ]
        }
      ],
      "source": [
        "# Student Exercise\n",
        "# TODO: Ask the user for a city, then display the current temperature and condition.\n",
        "\n",
        "city = input(\"Enter a city: \")\n",
        "data = get_weather(city, os.environ['WEATHER_API_KEY'])\n",
        "print(f\"{city}: {data['current']['temp_c']}°C, {data['current']['condition']['text']}\")\n"
      ]
    },
    {
      "cell_type": "markdown",
      "id": "ccd5802c",
      "metadata": {
        "id": "ccd5802c"
      },
      "source": [
        "### Section 4: Working with JSON\n",
        "\n",
        "Most APIs return JSON, a structured format similar to Python dictionaries. Let's format it for readability."
      ]
    },
    {
      "cell_type": "code",
      "execution_count": 10,
      "id": "a1b44389",
      "metadata": {
        "colab": {
          "base_uri": "https://localhost:8080/"
        },
        "id": "a1b44389",
        "outputId": "87f56c53-cb5c-4d20-c5c2-fc43ae8619a3"
      },
      "outputs": [
        {
          "output_type": "stream",
          "name": "stdout",
          "text": [
            "{\n",
            "    \"location\": {\n",
            "        \"name\": \"Richmond\",\n",
            "        \"region\": \"Virginia\",\n",
            "        \"country\": \"United States of America\",\n",
            "        \"lat\": 37.5536,\n",
            "        \"lon\": -77.4606,\n",
            "        \"tz_id\": \"America/New_York\",\n",
            "        \"localtime_epoch\": 1759718590,\n",
            "        \"localtime\": \"2025-10-05 22:43\"\n",
            "    },\n",
            "    \"current\": {\n",
            "        \"last_updated_epoch\": 1759717800,\n",
            "        \"last_updated\": \"2025-10-05 22:30\",\n",
            "        \"temp_c\": 17.8,\n",
            "        \"temp_f\": 64.0,\n",
            "        \"is_day\": 0,\n",
            "        \"condition\": {\n",
            "            \"text\": \"Clear\",\n",
            "            \"icon\": \"//cdn.weatherapi.com/weather/64x64/night/113.png\",\n",
            "            \"code\": 1000\n",
            "        },\n",
            "        \"wind_mph\": 5.6,\n",
            "        \"wind_kph\": 9.0,\n",
            "        \"wind_degree\": 143,\n",
            "        \"wind_dir\": \"SE\",\n",
            "        \"pressure_mb\": 1026.0,\n",
            "        \"pressure_in\": 30.29,\n",
            "        \"precip_mm\": 0.0,\n",
            "        \"precip_in\": 0.0,\n",
            "        \"humidity\": 90,\n",
            "        \"cloud\": 0,\n",
            "        \"feelslike_c\": 17.8,\n",
            "        \"feelslike_f\": 64.0,\n",
            "        \"windchill_c\": 17.7,\n",
            "        \"windchill_f\": 63.9,\n",
            "        \"heatindex_c\": 17.8,\n",
            "        \"heatindex_f\": 64.0,\n",
            "        \"dewpoint_c\": 14.8,\n",
            "        \"dewpoint_f\": 58.6,\n",
            "        \"vis_km\": 16.0,\n",
            "        \"vis_miles\": 9.0,\n",
            "        \"uv\": 0.0,\n",
            "        \"gust_mph\": 11.4,\n",
            "        \"gust_kph\": 18.4\n",
            "    }\n",
            "}\n"
          ]
        }
      ],
      "source": [
        "import json\n",
        "\n",
        "print(json.dumps(data, indent=4))\n"
      ]
    },
    {
      "cell_type": "markdown",
      "id": "ae03c38d",
      "metadata": {
        "id": "ae03c38d"
      },
      "source": [
        "### Section 5: Mini Project — Multi-City Weather Dashboard\n",
        "\n",
        "We'll request data for several cities, collect it in a DataFrame, and visualize it."
      ]
    },
    {
      "cell_type": "code",
      "execution_count": 11,
      "id": "abee205d",
      "metadata": {
        "colab": {
          "base_uri": "https://localhost:8080/",
          "height": 554
        },
        "id": "abee205d",
        "outputId": "c9a4dac8-f890-480d-8be9-f1966ff93ec9"
      },
      "outputs": [
        {
          "output_type": "stream",
          "name": "stdout",
          "text": [
            "       City  Temp (°C)      Condition\n",
            "0  New York       22.2          Clear\n",
            "1    London       10.3  Partly Cloudy\n",
            "2     Tokyo       28.3  Partly cloudy\n",
            "3    Sydney       31.0  Partly Cloudy\n",
            "4     Paris       10.1          Clear\n"
          ]
        },
        {
          "output_type": "display_data",
          "data": {
            "text/plain": [
              "<Figure size 640x480 with 1 Axes>"
            ],
            "image/png": "[encoded data removed]"
          },
          "metadata": {}
        }
      ],
      "source": [
        "import pandas as pd\n",
        "import matplotlib.pyplot as plt\n",
        "\n",
        "cities = [\"New York\", \"London\", \"Tokyo\", \"Sydney\", \"Paris\"]\n",
        "weather_data = []\n",
        "\n",
        "for city in cities:\n",
        "    try:\n",
        "        d = get_weather(city, os.environ['WEATHER_API_KEY'])\n",
        "        weather_data.append({\n",
        "            \"City\": d['location']['name'],\n",
        "            \"Temp (°C)\": d['current']['temp_c'],\n",
        "            \"Condition\": d['current']['condition']['text']\n",
        "        })\n",
        "    except Exception as e:\n",
        "        print(f\"Error fetching {city}: {e}\")\n",
        "\n",
        "df = pd.DataFrame(weather_data)\n",
        "print(df)\n",
        "\n",
        "plt.bar(df['City'], df['Temp (°C)'])\n",
        "plt.title(\"Temperatures by City\")\n",
        "plt.ylabel(\"Temperature (°C)\")\n",
        "plt.show()\n"
      ]
    },
    {
      "cell_type": "markdown",
      "id": "a9756165",
      "metadata": {
        "id": "a9756165"
      },
      "source": [
        "### Section 6: Key Takeaways\n",
        "\n",
        "1. **API keys** authenticate and track usage.\n",
        "2. Use environment variables or `getpass()` to keep them secret.\n",
        "3. JSON is the standard data format for APIs.\n",
        "4. You can combine APIs with pandas and matplotlib for analysis and visualization.\n",
        "\n",
        "**Challenge:**\n",
        "Find another API that uses keys (e.g. NewsAPI, Giphy, or NASA) and write a short program that fetches and prints something interesting."
      ]
    },
    {
      "cell_type": "markdown",
      "id": "79cb3fb7",
      "metadata": {
        "id": "79cb3fb7"
      },
      "source": [
        "### Knowledge Check: APIs and Basic Requests\n",
        "1. Define what an API (Application Programming Interface) is and explain its purpose in software development.\n",
        "2. Describe the difference between a GET request and a POST request in an HTTP context.\n",
        "3. Explain how the `requests` library facilitates communication with web APIs."
      ]
    },
    {
      "cell_type": "code",
      "execution_count": null,
      "id": "52d4ba6a",
      "metadata": {
        "id": "52d4ba6a"
      },
      "outputs": [],
      "source": [
        "# Your responses here\n"
      ]
    },
    {
      "cell_type": "markdown",
      "id": "01cbe962",
      "metadata": {
        "id": "01cbe962"
      },
      "source": [
        "### Knowledge Check: API Keys and Authentication\n",
        "1. Discuss the purpose of an API key and how it contributes to API security.\n",
        "2. Explain why it is important not to share API keys publicly.\n",
        "3. Describe how environment variables or secure input functions (e.g., `getpass()`) can be used to protect sensitive credentials."
      ]
    },
    {
      "cell_type": "code",
      "execution_count": null,
      "id": "4b4e18f4",
      "metadata": {
        "id": "4b4e18f4"
      },
      "outputs": [],
      "source": [
        "# Your responses here\n"
      ]
    },
    {
      "cell_type": "markdown",
      "id": "dfc48a3c",
      "metadata": {
        "id": "dfc48a3c"
      },
      "source": [
        "### Knowledge Check: Working with JSON Data\n",
        "1. Explain the structure of a JSON object and how it maps to Python data types.\n",
        "2. Describe how you can extract specific fields from a JSON response in Python.\n",
        "3. Discuss why JSON is a preferred format for data interchange in APIs."
      ]
    },
    {
      "cell_type": "code",
      "execution_count": null,
      "id": "569f1ce2",
      "metadata": {
        "id": "569f1ce2"
      },
      "outputs": [],
      "source": [
        "# Your responses here\n"
      ]
    },
    {
      "cell_type": "markdown",
      "id": "97ee314b",
      "metadata": {
        "id": "97ee314b"
      },
      "source": [
        "### Knowledge Check: Data Visualization and Analysis\n",
        "1. Explain how Python libraries such as `pandas` and `matplotlib` enhance API data analysis.\n",
        "2. Describe the process of transforming API responses into tabular or visual formats for interpretation.\n",
        "3. Reflect on how visualization can help reveal insights in data retrieved from APIs."
      ]
    },
    {
      "cell_type": "code",
      "execution_count": null,
      "id": "9e24d91e",
      "metadata": {
        "id": "9e24d91e"
      },
      "outputs": [],
      "source": [
        "# Your responses here\n"
      ]
    },
    {
      "cell_type": "markdown",
      "id": "9f462b03",
      "metadata": {
        "id": "9f462b03"
      },
      "source": [
        "### Knowledge Check: Ethical and Practical Considerations\n",
        "1. Discuss the ethical responsibilities of developers when using APIs that provide access to public data.\n",
        "2. Explain the concept of rate limiting and why APIs impose such restrictions.\n",
        "3. Reflect on potential security concerns when integrating third-party APIs into applications."
      ]
    },
    {
      "cell_type": "code",
      "execution_count": null,
      "id": "c8388eab",
      "metadata": {
        "id": "c8388eab"
      },
      "outputs": [],
      "source": [
        "# Your responses here\n"
      ]
    }
  ],
  "metadata": {
    "colab": {
      "provenance": [],
      "include_colab_link": true
    },
    "language_info": {
      "name": "python"
    },
    "kernelspec": {
      "name": "python3",
      "display_name": "Python 3"
    }
  },
  "nbformat": 4,
  "nbformat_minor": 5
}